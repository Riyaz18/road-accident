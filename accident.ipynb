{
  "metadata": {
    "language_info": {
      "codemirror_mode": {
        "name": "python",
        "version": 3
      },
      "file_extension": ".py",
      "mimetype": "text/x-python",
      "name": "python",
      "nbconvert_exporter": "python",
      "pygments_lexer": "ipython3",
      "version": "3.8"
    },
    "kernelspec": {
      "name": "python",
      "display_name": "Python (Pyodide)",
      "language": "python"
    }
  },
  "nbformat_minor": 4,
  "nbformat": 4,
  "cells": [
    {
      "cell_type": "code",
      "source": "!pip install folium\n!pip install requests\n!pip install pandas\nimport pandas as pd\nimport folium\nimport requests\n\n# URL for the raw CSV file on Github\nurl = 'https://raw.githubusercontent.com/username/repository/main/bengaluru_accidents.csv'\n\n# Download the CSV file and load it into a DataFrame\nresponse = requests.get(url)\ncontent = response.content.decode('utf-8')\ndf = pd.read_csv(io.StringIO(content))\n\n# Create a map centered on Bengaluru\nmap_bengaluru = folium.Map(location=[12.9716, 77.5946], zoom_start=12)\n\n# Plot the accident locations as scatter points on the map\nfor lat, lon in zip(df['LAT'], df['LONG']):\n    folium.CircleMarker(\n        location=[lat, lon],\n        radius=5,\n        color='red',\n        fill=True,\n        fill_color='red',\n        fill_opacity=0.6\n    ).add_to(map_bengaluru)\n\n# Display the map\nmap_bengaluru",
      "metadata": {},
      "execution_count": null,
      "outputs": []
    }
  ]
}